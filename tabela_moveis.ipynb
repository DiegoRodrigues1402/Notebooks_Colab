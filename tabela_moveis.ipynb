{
  "nbformat": 4,
  "nbformat_minor": 0,
  "metadata": {
    "colab": {
      "provenance": [],
      "mount_file_id": "1MhXWr4_s955NvaUM2g795Rv0jWjFXJGJ",
      "authorship_tag": "ABX9TyPXgLGm2QveM7ETAP+zcF0J",
      "include_colab_link": true
    },
    "kernelspec": {
      "name": "python3",
      "display_name": "Python 3"
    },
    "language_info": {
      "name": "python"
    }
  },
  "cells": [
    {
      "cell_type": "markdown",
      "metadata": {
        "id": "view-in-github",
        "colab_type": "text"
      },
      "source": [
        "<a href=\"https://colab.research.google.com/github/DiegoRodrigues1402/Notebooks_Colab/blob/main/tabela_moveis.ipynb\" target=\"_parent\"><img src=\"https://colab.research.google.com/assets/colab-badge.svg\" alt=\"Open In Colab\"/></a>"
      ]
    },
    {
      "cell_type": "markdown",
      "source": [
        "#Programa para visualizar quantidades de vagas disponivel por data"
      ],
      "metadata": {
        "id": "beccIAg7egAu"
      }
    },
    {
      "cell_type": "code",
      "execution_count": 1,
      "metadata": {
        "id": "qK4ITYUto5oy"
      },
      "outputs": [],
      "source": [
        "import pandas as pd\n"
      ]
    },
    {
      "cell_type": "code",
      "source": [
        "dt_data = pd.read_json('/content/drive/MyDrive/curso panda agrupamento/moveis_disponiveis.json')"
      ],
      "metadata": {
        "id": "LgxsmEbZq5dK"
      },
      "execution_count": 2,
      "outputs": []
    },
    {
      "cell_type": "code",
      "source": [
        "dt_data.info()"
      ],
      "metadata": {
        "colab": {
          "base_uri": "https://localhost:8080/"
        },
        "id": "drnK4R_MrAwk",
        "outputId": "ebf43165-4084-4c92-c2d8-d08d23ec184f"
      },
      "execution_count": 3,
      "outputs": [
        {
          "output_type": "stream",
          "name": "stdout",
          "text": [
            "<class 'pandas.core.frame.DataFrame'>\n",
            "Int64Index: 365000 entries, 0 to 364999\n",
            "Data columns (total 4 columns):\n",
            " #   Column           Non-Null Count   Dtype \n",
            "---  ------           --------------   ----- \n",
            " 0   id               365000 non-null  int64 \n",
            " 1   data             365000 non-null  object\n",
            " 2   vaga_disponivel  365000 non-null  bool  \n",
            " 3   preco            270547 non-null  object\n",
            "dtypes: bool(1), int64(1), object(2)\n",
            "memory usage: 11.5+ MB\n"
          ]
        }
      ]
    },
    {
      "cell_type": "code",
      "source": [
        "dt_data['data'] = pd.to_datetime(dt_data['data'])"
      ],
      "metadata": {
        "id": "lTaqVLxvrBnM"
      },
      "execution_count": 4,
      "outputs": []
    },
    {
      "cell_type": "code",
      "source": [
        "dt_data.info()"
      ],
      "metadata": {
        "colab": {
          "base_uri": "https://localhost:8080/"
        },
        "id": "6YvYEgP5vXvT",
        "outputId": "c86c3cba-29e8-4825-de65-ee76a87eaea1"
      },
      "execution_count": 5,
      "outputs": [
        {
          "output_type": "stream",
          "name": "stdout",
          "text": [
            "<class 'pandas.core.frame.DataFrame'>\n",
            "Int64Index: 365000 entries, 0 to 364999\n",
            "Data columns (total 4 columns):\n",
            " #   Column           Non-Null Count   Dtype         \n",
            "---  ------           --------------   -----         \n",
            " 0   id               365000 non-null  int64         \n",
            " 1   data             365000 non-null  datetime64[ns]\n",
            " 2   vaga_disponivel  365000 non-null  bool          \n",
            " 3   preco            270547 non-null  object        \n",
            "dtypes: bool(1), datetime64[ns](1), int64(1), object(1)\n",
            "memory usage: 11.5+ MB\n"
          ]
        }
      ]
    },
    {
      "cell_type": "code",
      "source": [
        "dt_data['data']= dt_data['data'].dt.strftime(' %Y/%m')"
      ],
      "metadata": {
        "id": "ke1iC5Ojvab8"
      },
      "execution_count": 16,
      "outputs": []
    },
    {
      "cell_type": "code",
      "source": [
        "tot_vaga = dt_data.groupby(dt_data['data'])['vaga_disponivel'].sum()"
      ],
      "metadata": {
        "id": "HSnXfCqAdJvZ"
      },
      "execution_count": 18,
      "outputs": []
    },
    {
      "cell_type": "code",
      "source": [
        "tot_vaga"
      ],
      "metadata": {
        "colab": {
          "base_uri": "https://localhost:8080/"
        },
        "id": "b81VQODjddcy",
        "outputId": "d1380643-0fb4-43f8-d553-dc5798c08fc2"
      },
      "execution_count": 19,
      "outputs": [
        {
          "output_type": "execute_result",
          "data": {
            "text/plain": [
              "data\n",
              " 2016/01    16543\n",
              " 2016/02    20128\n",
              " 2016/03    23357\n",
              " 2016/04    22597\n",
              " 2016/05    23842\n",
              " 2016/06    23651\n",
              " 2016/07    22329\n",
              " 2016/08    22529\n",
              " 2016/09    22471\n",
              " 2016/10    23765\n",
              " 2016/11    23352\n",
              " 2016/12    24409\n",
              " 2017/01     1574\n",
              "Name: vaga_disponivel, dtype: int64"
            ]
          },
          "metadata": {},
          "execution_count": 19
        }
      ]
    }
  ]
}